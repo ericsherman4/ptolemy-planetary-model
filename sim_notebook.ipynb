{
 "cells": [
  {
   "cell_type": "code",
   "execution_count": 31,
   "id": "bbe9d021",
   "metadata": {},
   "outputs": [
    {
     "data": {
      "text/html": [
       "<div id=\"glowscript\" class=\"glowscript\"></div>"
      ],
      "text/plain": [
       "<IPython.core.display.HTML object>"
      ]
     },
     "metadata": {},
     "output_type": "display_data"
    },
    {
     "data": {
      "application/javascript": [
       "if (typeof Jupyter !== \"undefined\") { window.__context = { glowscript_container: $(\"#glowscript\").removeAttr(\"id\")};}else{ element.textContent = ' ';}"
      ],
      "text/plain": [
       "<IPython.core.display.Javascript object>"
      ]
     },
     "metadata": {},
     "output_type": "display_data"
    }
   ],
   "source": [
    "from vpython import *\n",
    "\n",
    "\n",
    "\n",
    "class inputs:\n",
    "    scale = 637100\n",
    "    earth_radius = 6371000  // scale\n",
    "    moon_radius = 1737400 // scale\n",
    "    moon_empicycle_radius = 1000000000 //scale\n",
    "    moon_orbit_radius =  3.48*10e8 // scale\n",
    "\n",
    "scene = canvas()    \n",
    "    \n",
    "earth = sphere(pos = vector(0,0,0), color =  color.blue, radius = 600)\n",
    "moon = sphere(pos=vector(inputs.moon_empicycle_radius,inputs.moon_orbit_radius,0), color = color.gray(0.5), radius = 200, make_trail = True)\n",
    "\n",
    "originthing = sphere(pos=vector(0,inputs.moon_orbit_radius,0), color = color.red, radius = 200, make_trail = True)\n",
    "\n",
    "r = ring(pos=originthing.pos,axis=vector(0,0,1),radius=inputs.moon_empicycle_radius, thickness=100)\n",
    "\n",
    "    \n",
    "t = 0\n",
    "end_time = 300\n",
    "delta_t = 0.1\n",
    "\n",
    "# obj.rotate(angle=a,\n",
    "#            axis=vec(x,y,z),\n",
    "#            origin=vector(xo,yo,zo))\n",
    "\n",
    "count = 0\n",
    "originposold = originthing.pos\n",
    "while( t < end_time):\n",
    "    rate(200)\n",
    "    t += delta_t\n",
    "    count+=1\n",
    "#     if count % 200 == 0:\n",
    "    orginposold = originthing.pos\n",
    "#         print(count)\n",
    "    moon.rotate(angle = 0.009, axis = vector(0,0,1), origin = originposold  )\n",
    "    originthing.rotate(angle = 0.0008, axis = vector(0,0,1), origin = vector(0,0,0))\n",
    "    r.pos = originthing.pos\n",
    "    \n",
    "    \n",
    "    \n"
   ]
  }
 ],
 "metadata": {
  "kernelspec": {
   "display_name": "Python 3 (ipykernel)",
   "language": "python",
   "name": "python3"
  },
  "language_info": {
   "codemirror_mode": {
    "name": "ipython",
    "version": 3
   },
   "file_extension": ".py",
   "mimetype": "text/x-python",
   "name": "python",
   "nbconvert_exporter": "python",
   "pygments_lexer": "ipython3",
   "version": "3.9.2"
  }
 },
 "nbformat": 4,
 "nbformat_minor": 5
}
