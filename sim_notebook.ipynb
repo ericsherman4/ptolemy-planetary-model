{
 "cells": [
  {
   "cell_type": "code",
   "execution_count": null,
   "id": "bbe9d021",
   "metadata": {},
   "outputs": [
    {
     "data": {
      "text/html": [
       "<div id=\"glowscript\" class=\"glowscript\"></div>"
      ],
      "text/plain": [
       "<IPython.core.display.HTML object>"
      ]
     },
     "metadata": {},
     "output_type": "display_data"
    },
    {
     "data": {
      "application/javascript": [
       "if (typeof Jupyter !== \"undefined\") { window.__context = { glowscript_container: $(\"#glowscript\").removeAttr(\"id\")};}else{ element.textContent = ' ';}"
      ],
      "text/plain": [
       "<IPython.core.display.Javascript object>"
      ]
     },
     "metadata": {},
     "output_type": "display_data"
    }
   ],
   "source": [
    "from vpython import *\n",
    "\n",
    "\n",
    "class inputs:\n",
    "    # units is earth radius\n",
    "    moon_epicycle_radius = 20 \n",
    "    moon_orbit_radius =  48\n",
    "    \n",
    "    # for visualization\n",
    "    earth_sim_radius = 5\n",
    "    moon_sim_radius = 3\n",
    "    orbit_marker_radius = 3\n",
    "    ring_thickness = 1\n",
    "    \n",
    "    # rotation\n",
    "    delta_ang_moon_epicycle = 0.01\n",
    "    delta_ang_moon_orbit = 0.0008\n",
    "    \n",
    "    \n",
    "\n",
    "class time:\n",
    "    t = 0\n",
    "    end = 1000\n",
    "    delta = 0.05\n",
    "    rate = 100\n",
    "    \n",
    "class solarsys:\n",
    "    \n",
    "    planets = list()\n",
    "    orbits = list()\n",
    "    epicycles = list()\n",
    "    delta_orbit_ang = list()\n",
    "    delta_epicycle_ang = list()\n",
    "    \n",
    "    def __init__(self):\n",
    "        # create earth\n",
    "        self.earth = sphere(pos = vector(0,0,0), color =  color.blue, radius = inputs.earth_sim_radius)\n",
    "    \n",
    "    def add_planet(self, color_in : color, planet_radius, orbit_radius, epicycle_radius, delta_orbit_ang_in, delta_epicycle_ang_in):\n",
    "        \n",
    "        solarsys.planets.append(sphere(pos=vector(0,orbit_radius+epicycle_radius,0),\n",
    "                                color = color_in, radius = planet_radius, make_trail = True))\n",
    "        \n",
    "        solarsys.orbits.append(sphere(pos=vector(0,orbit_radius,0),\n",
    "                                     color = color.gray(0.6), radius = planet_radius, make_trail = True))\n",
    "        \n",
    "        solarsys.epicycles.append(ring(pos=solarsys.orbits[-1].pos,axis=vector(0,0,1),\n",
    "                                     radius=epicycle_radius, thickness=inputs.ring_thickness, emissive=True))\n",
    "        \n",
    "        solarsys.delta_orbit_ang.append(delta_orbit_ang_in)\n",
    "        solarsys.delta_epicycle_ang.append(delta_epicycle_ang_in)\n",
    "        \n",
    "        \n",
    "        \n",
    "    def update(self):\n",
    "        for i in range(0, len(solarsys.planets)):\n",
    "            # moves epicycle to where the orbit marker is\n",
    "            solarsys.epicycles[i].pos = solarsys.orbits[i].pos\n",
    "            \n",
    "            # rotates the planet around the epicycle\n",
    "            solarsys.planets[i].rotate(angle = solarsys.delta_epicycle_ang[i], axis = vector(0,0,1), origin = solarsys.epicycles[i].pos)\n",
    "            solarsys.planets[i].rotate(angle= solarsys.delta_orbit_ang[i], axis = vector(0,0,1), origin = self.earth.pos)\n",
    "            \n",
    "            # rotates the epicycle around the earth\n",
    "            solarsys.orbits[i].rotate(angle= solarsys.delta_orbit_ang[i], axis = vector(0,0,1), origin = self.earth.pos)\n",
    "        \n",
    "        \n",
    "    \n",
    "\n",
    "scene = canvas(width=1000,height=500)    \n",
    "    \n",
    "# earth = sphere(pos = vector(0,0,0), color =  color.blue, radius = inputs.earth_sim_radius)\n",
    "# moon = sphere(pos=vector(inputs.moon_epicycle_radius,inputs.moon_orbit_radius,0), color = color.gray(0.5), radius = inputs.moon_sim_radius, make_trail = True)\n",
    "\n",
    "# orbit_tracker = sphere(pos=vector(0,inputs.moon_orbit_radius,0), color = color.red, radius = inputs.orbit_marker_radius, make_trail = True)\n",
    "\n",
    "# epicycle_tracker = ring(pos=orbit_tracker.pos,axis=vector(0,0,1),radius=inputs.moon_epicycle_radius, thickness=30, emissive=True)\n",
    "sys = solarsys()\n",
    "\n",
    "sys.add_planet(color.red, inputs.moon_sim_radius, inputs.moon_orbit_radius, \n",
    "               inputs.moon_epicycle_radius, inputs.delta_ang_moon_orbit, inputs.delta_ang_moon_epicycle)\n",
    "\n",
    "sys.add_planet(color.yellow, 6, inputs.moon_orbit_radius*3,  inputs.moon_epicycle_radius*1.3, 0.005, 0.04)\n",
    "sys.add_planet(color.purple, 4, inputs.moon_orbit_radius*2,  inputs.moon_epicycle_radius*0.7, 0.003, 0.04)\n",
    "\n",
    "\n",
    "    \n",
    "count = 0\n",
    "while( time.t < time.end):\n",
    "    rate(time.rate)\n",
    "    time.t += time.delta\n",
    "    count+=1\n",
    "    \n",
    "    sys.update()\n",
    "    \n",
    "#     epicycle_tracker.pos = orbit_tracker.pos\n",
    "#     moon.rotate(angle = inputs.w_moon_epicycle, axis = vector(0,0,1), origin = epicycle_tracker.pos )\n",
    "#     moon.rotate(angle = inputs.w_moon_orbit, axis = vector(0,0,1), origin = vector(0,0,0))\n",
    "#     orbit_tracker.rotate(angle = inputs.w_moon_orbit, axis = vector(0,0,1), origin = vector(0,0,0))\n",
    "    \n",
    "    \n",
    "    \n",
    "    \n"
   ]
  }
 ],
 "metadata": {
  "kernelspec": {
   "display_name": "Python 3 (ipykernel)",
   "language": "python",
   "name": "python3"
  },
  "language_info": {
   "codemirror_mode": {
    "name": "ipython",
    "version": 3
   },
   "file_extension": ".py",
   "mimetype": "text/x-python",
   "name": "python",
   "nbconvert_exporter": "python",
   "pygments_lexer": "ipython3",
   "version": "3.9.2"
  }
 },
 "nbformat": 4,
 "nbformat_minor": 5
}
