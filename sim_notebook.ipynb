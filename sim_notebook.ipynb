{
 "cells": [
  {
   "cell_type": "code",
   "execution_count": 53,
   "id": "bbe9d021",
   "metadata": {
    "scrolled": false
   },
   "outputs": [
    {
     "data": {
      "text/html": [
       "<div id=\"glowscript\" class=\"glowscript\"></div>"
      ],
      "text/plain": [
       "<IPython.core.display.HTML object>"
      ]
     },
     "metadata": {},
     "output_type": "display_data"
    },
    {
     "data": {
      "application/javascript": [
       "if (typeof Jupyter !== \"undefined\") { window.__context = { glowscript_container: $(\"#glowscript\").removeAttr(\"id\")};}else{ element.textContent = ' ';}"
      ],
      "text/plain": [
       "<IPython.core.display.Javascript object>"
      ]
     },
     "metadata": {},
     "output_type": "display_data"
    },
    {
     "ename": "KeyboardInterrupt",
     "evalue": "",
     "output_type": "error",
     "traceback": [
      "\u001b[1;31m---------------------------------------------------------------------------\u001b[0m",
      "\u001b[1;31mKeyboardInterrupt\u001b[0m                         Traceback (most recent call last)",
      "Cell \u001b[1;32mIn [53], line 114\u001b[0m\n\u001b[0;32m    110\u001b[0m sys\u001b[38;5;241m.\u001b[39madd_planet(color\u001b[38;5;241m.\u001b[39mwhite, \u001b[38;5;241m300\u001b[39m, inputs\u001b[38;5;241m.\u001b[39msaturn_orbit_radius, \u001b[38;5;241m1200\u001b[39m, \u001b[38;5;241m0.001\u001b[39m, \u001b[38;5;241m0.04\u001b[39m)\n\u001b[0;32m    113\u001b[0m \u001b[38;5;28;01mwhile\u001b[39;00m( time\u001b[38;5;241m.\u001b[39mt \u001b[38;5;241m<\u001b[39m time\u001b[38;5;241m.\u001b[39mend):\n\u001b[1;32m--> 114\u001b[0m     \u001b[43mrate\u001b[49m\u001b[43m(\u001b[49m\u001b[43mtime\u001b[49m\u001b[38;5;241;43m.\u001b[39;49m\u001b[43mrate\u001b[49m\u001b[43m)\u001b[49m\n\u001b[0;32m    115\u001b[0m     time\u001b[38;5;241m.\u001b[39mt \u001b[38;5;241m+\u001b[39m\u001b[38;5;241m=\u001b[39m time\u001b[38;5;241m.\u001b[39mdelta\n\u001b[0;32m    117\u001b[0m     sys\u001b[38;5;241m.\u001b[39mupdate()\n",
      "File \u001b[1;32m~\\anaconda3\\envs\\vpython\\lib\\site-packages\\vpython\\rate_control.py:266\u001b[0m, in \u001b[0;36m_RateKeeper2.__call__\u001b[1;34m(self, N)\u001b[0m\n\u001b[0;32m    264\u001b[0m \u001b[38;5;28mself\u001b[39m\u001b[38;5;241m.\u001b[39mrval \u001b[38;5;241m=\u001b[39m N\n\u001b[0;32m    265\u001b[0m \u001b[38;5;28;01mif\u001b[39;00m \u001b[38;5;28mself\u001b[39m\u001b[38;5;241m.\u001b[39mrval \u001b[38;5;241m<\u001b[39m \u001b[38;5;241m1\u001b[39m: \u001b[38;5;28;01mraise\u001b[39;00m \u001b[38;5;167;01mValueError\u001b[39;00m(\u001b[38;5;124m\"\u001b[39m\u001b[38;5;124mrate value must be greater than or equal to 1\u001b[39m\u001b[38;5;124m\"\u001b[39m)\n\u001b[1;32m--> 266\u001b[0m \u001b[38;5;28;43msuper\u001b[39;49m\u001b[43m(\u001b[49m\u001b[43m_RateKeeper2\u001b[49m\u001b[43m,\u001b[49m\u001b[43m \u001b[49m\u001b[38;5;28;43mself\u001b[39;49m\u001b[43m)\u001b[49m\u001b[38;5;241;43m.\u001b[39;49m\u001b[38;5;21;43m__call__\u001b[39;49m\u001b[43m(\u001b[49m\u001b[38;5;28;43mself\u001b[39;49m\u001b[38;5;241;43m.\u001b[39;49m\u001b[43mrval\u001b[49m\u001b[43m)\u001b[49m\n",
      "File \u001b[1;32m~\\anaconda3\\envs\\vpython\\lib\\site-packages\\vpython\\rate_control.py:220\u001b[0m, in \u001b[0;36mRateKeeper.__call__\u001b[1;34m(self, maxRate)\u001b[0m\n\u001b[0;32m    217\u001b[0m \u001b[38;5;66;03m# Determine how much time is left before the next predicted call to rate:\u001b[39;00m\n\u001b[0;32m    218\u001b[0m dt \u001b[38;5;241m=\u001b[39m \u001b[38;5;28mself\u001b[39m\u001b[38;5;241m.\u001b[39mlastSleep \u001b[38;5;241m+\u001b[39m \u001b[38;5;28mself\u001b[39m\u001b[38;5;241m.\u001b[39mcalls\u001b[38;5;241m*\u001b[39m(\u001b[38;5;28mself\u001b[39m\u001b[38;5;241m.\u001b[39muserTime \u001b[38;5;241m+\u001b[39m \u001b[38;5;28mself\u001b[39m\u001b[38;5;241m.\u001b[39mcallTime \u001b[38;5;241m+\u001b[39m \u001b[38;5;28mself\u001b[39m\u001b[38;5;241m.\u001b[39mdelay) \u001b[38;5;241m+\u001b[39m \\\n\u001b[0;32m    219\u001b[0m      renders\u001b[38;5;241m*\u001b[39m\u001b[38;5;28mself\u001b[39m\u001b[38;5;241m.\u001b[39mrenderTime \u001b[38;5;241m+\u001b[39m sleeps\u001b[38;5;241m*\u001b[39m\u001b[38;5;28mself\u001b[39m\u001b[38;5;241m.\u001b[39minteractionPeriod \u001b[38;5;241m-\u001b[39m _clock()\n\u001b[1;32m--> 220\u001b[0m \u001b[43m_sleep\u001b[49m\u001b[43m(\u001b[49m\u001b[43mdt\u001b[49m\u001b[43m)\u001b[49m\n\u001b[0;32m    221\u001b[0m \u001b[38;5;28mself\u001b[39m\u001b[38;5;241m.\u001b[39mlastSleep \u001b[38;5;241m=\u001b[39m _clock()\n\u001b[0;32m    222\u001b[0m \u001b[38;5;28mself\u001b[39m\u001b[38;5;241m.\u001b[39mcalls \u001b[38;5;241m=\u001b[39m \u001b[38;5;241m0\u001b[39m\n",
      "File \u001b[1;32m~\\anaconda3\\envs\\vpython\\lib\\site-packages\\vpython\\rate_control.py:62\u001b[0m, in \u001b[0;36m_sleep\u001b[1;34m(dt)\u001b[0m\n\u001b[0;32m     60\u001b[0m dtsleep \u001b[38;5;241m=\u001b[39m nticks\u001b[38;5;241m*\u001b[39m_tick\n\u001b[0;32m     61\u001b[0m t \u001b[38;5;241m=\u001b[39m _clock()\n\u001b[1;32m---> 62\u001b[0m \u001b[43mtime\u001b[49m\u001b[38;5;241;43m.\u001b[39;49m\u001b[43msleep\u001b[49m\u001b[43m(\u001b[49m\u001b[43mdtsleep\u001b[49m\u001b[43m)\u001b[49m\n\u001b[0;32m     63\u001b[0m t \u001b[38;5;241m=\u001b[39m _clock()\u001b[38;5;241m-\u001b[39mt\n\u001b[0;32m     64\u001b[0m dt \u001b[38;5;241m-\u001b[39m\u001b[38;5;241m=\u001b[39m t\n",
      "\u001b[1;31mKeyboardInterrupt\u001b[0m: "
     ]
    }
   ],
   "source": [
    "from vpython import *\n",
    "\n",
    "\n",
    "class inputs:\n",
    "    # https://en.wikipedia.org/wiki/Deferent_and_epicycle\n",
    "    # units is earth radius\n",
    "    moon_orbit_radius =  48\n",
    "    mercury_orbit_radius = 115\n",
    "    venus_orbit_radius = 622.5\n",
    "    sun_orbit_radius = 1210\n",
    "#     scale_outer_planets = 4\n",
    "    mars_orbit_radius = 5040\n",
    "    jupiter_orbit_radius = 11504\n",
    "    saturn_orbit_radius = 17026 \n",
    "\n",
    "    \n",
    "    # epicycle radius\n",
    "    moon_epicycle_radius = 20 \n",
    "    \n",
    "    \n",
    "    # for visualization\n",
    "    earth_sim_radius = 5\n",
    "    orbit_marker_radius = 1\n",
    "    ring_thickness = 20\n",
    "    \n",
    "    # rotation\n",
    "    delta_ang_moon_epicycle = 0.007\n",
    "    delta_ang_moon_orbit = 0.002\n",
    "\n",
    "class time:\n",
    "    t = 0\n",
    "    end = 1000\n",
    "    delta = 0.05\n",
    "    rate = 100\n",
    "    \n",
    "class solarsys:\n",
    "    \n",
    "    planets = list()\n",
    "    orbits = list()\n",
    "    epicycles = list()\n",
    "    sticks = list()\n",
    "    delta_orbit_ang = list()\n",
    "    delta_epicycle_ang = list()\n",
    "    \n",
    "    def __init__(self):\n",
    "        # create earth\n",
    "        self.earth = sphere(pos = vector(0,0,0), color =  color.blue, radius = inputs.earth_sim_radius)\n",
    "    \n",
    "    def add_planet(self, color_in : color, planet_radius, orbit_radius, epicycle_radius, delta_orbit_ang_in, delta_epicycle_ang_in):\n",
    "        \n",
    "        solarsys.planets.append(sphere(pos=vector(0,orbit_radius+epicycle_radius,0),\n",
    "                                color = color_in, radius = planet_radius, make_trail = True))\n",
    "        \n",
    "        solarsys.orbits.append(sphere(pos=vector(0,orbit_radius,0),\n",
    "                                     color = color.gray(0.6), radius = inputs.orbit_marker_radius, make_trail = True))\n",
    "        \n",
    "        solarsys.epicycles.append(ring(pos=solarsys.orbits[-1].pos,axis=vector(0,0,1),\n",
    "                                     radius=epicycle_radius, thickness=inputs.ring_thickness, emissive=True))\n",
    "        \n",
    "        solarsys.delta_orbit_ang.append(delta_orbit_ang_in)\n",
    "        solarsys.delta_epicycle_ang.append(delta_epicycle_ang_in)\n",
    "        \n",
    "        solarsys.sticks.append(arrow(pos = vector(0,orbit_radius,0), axis =vector(0,epicycle_radius,0), round=True, color=color.gray(0.6))) \n",
    "        \n",
    "        \n",
    "        \n",
    "    def update(self):\n",
    "        for i in range(0, len(solarsys.planets)):\n",
    "            # moves epicycle to where the orbit marker is\n",
    "            solarsys.epicycles[i].pos = solarsys.orbits[i].pos\n",
    "            \n",
    "            # rotates the planet around the epicycle\n",
    "            solarsys.planets[i].rotate(angle = solarsys.delta_epicycle_ang[i], axis = vector(0,0,1), origin = solarsys.epicycles[i].pos)\n",
    "            solarsys.planets[i].rotate(angle= solarsys.delta_orbit_ang[i], axis = vector(0,0,1), origin = self.earth.pos)\n",
    "            solarsys.sticks[i].rotate(angle = solarsys.delta_epicycle_ang[i], axis = vector(0,0,1), origin = solarsys.epicycles[i].pos)\n",
    "            solarsys.sticks[i].rotate(angle= solarsys.delta_orbit_ang[i], axis = vector(0,0,1), origin = self.earth.pos)\n",
    "            \n",
    "            \n",
    "            # rotates the epicycle around the earth\n",
    "            solarsys.orbits[i].rotate(angle= solarsys.delta_orbit_ang[i], axis = vector(0,0,1), origin = self.earth.pos)\n",
    "        \n",
    "        \n",
    "    \n",
    "\n",
    "scene = canvas(width=1000,height=500)    \n",
    "sys = solarsys()\n",
    "\n",
    "\n",
    "# params: color_in : color, planet_radius, orbit_radius, epicycle_radius, delta_orbit_ang_in, delta_epicycle_ang_in\n",
    "\n",
    "# moon\n",
    "sys.add_planet(color.gray(0.5), 5, inputs.moon_orbit_radius, 20, 0.002, 0.007)\n",
    "\n",
    "# mercury\n",
    "sys.add_planet(color.blue, 10, inputs.mercury_orbit_radius, 26, 0.002, 0.03)\n",
    "\n",
    "# venus\n",
    "sys.add_planet(vector(1, 192/255, 2/255), 30, inputs.venus_orbit_radius,  15, 0.004, 0.06)\n",
    "\n",
    "#sun\n",
    "sys.add_planet(color.orange, 20, inputs.sun_orbit_radius, 200, 0.003, 0.006)\n",
    "\n",
    "#mars\n",
    "sys.add_planet(color.red, 300, inputs.mars_orbit_radius, 3000, 0.005, 0.01)\n",
    "\n",
    "#jupiter\n",
    "sys.add_planet(color.yellow, 300, inputs.jupiter_orbit_radius, 1100, 0.002, 0.04) #if last param over 2nd to last = whhole number, then it starts and ends at same spot\n",
    "\n",
    "#saturn\n",
    "sys.add_planet(color.white, 300, inputs.saturn_orbit_radius, 1200, 0.001, 0.04)\n",
    "\n",
    "    \n",
    "while( time.t < time.end):\n",
    "    rate(time.rate)\n",
    "    time.t += time.delta\n",
    "    \n",
    "    sys.update()\n",
    "    "
   ]
  },
  {
   "cell_type": "code",
   "execution_count": null,
   "id": "b57cf1f0",
   "metadata": {},
   "outputs": [],
   "source": []
  }
 ],
 "metadata": {
  "kernelspec": {
   "display_name": "Python 3 (ipykernel)",
   "language": "python",
   "name": "python3"
  },
  "language_info": {
   "codemirror_mode": {
    "name": "ipython",
    "version": 3
   },
   "file_extension": ".py",
   "mimetype": "text/x-python",
   "name": "python",
   "nbconvert_exporter": "python",
   "pygments_lexer": "ipython3",
   "version": "3.9.2"
  }
 },
 "nbformat": 4,
 "nbformat_minor": 5
}
